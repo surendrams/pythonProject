{
 "cells": [
  {
   "attachments": {},
   "cell_type": "markdown",
   "metadata": {},
   "source": [
    "**Python supports multiple creational, structural, and behavioral design patterns.**\n",
    "Design Pattern Summary Table\n",
    "Pattern     Category    Use Case\n",
    "Singleton\tCreational\tLogging, Configs, Database Connections\n",
    "Factory\t    Creational\tObject Creation without Specifying Class\n",
    "Adapter\t    Structural\tMaking Legacy Code Work with New Systems\n",
    "Decorator\tStructural\tAdding Functionality Without Modifying Code\n",
    "Observer\tBehavioral\tEvent-Driven Systems, Notifications\n",
    "Strategy\tBehavioral\tSwitching Algorithms at Runtime\n",
    "\n",
    "✔ Need a single shared instance? → Singleton\n",
    "✔ Want flexible object creation? → Factory\n",
    "✔ Need to integrate old and new code? → Adapter\n",
    "✔ Want to add behavior dynamically? → Decorator\n",
    "✔ Need event notifications? → Observer\n",
    "✔ Want flexible behavior switching? → Strategy"
   ]
  },
  {
   "attachments": {},
   "cell_type": "markdown",
   "metadata": {},
   "source": [
    "1. Creational Design Patterns (How objects are created and managed.)\n",
    "🔹 Singleton Pattern (Ensures only one instance of a class exists.)\n",
    "✅ Best for: Logging, configuration settings, database connections."
   ]
  },
  {
   "cell_type": "code",
   "execution_count": 1,
   "metadata": {},
   "outputs": [
    {
     "name": "stdout",
     "output_type": "stream",
     "text": [
      "True\n"
     ]
    }
   ],
   "source": [
    "class Singleton:\n",
    "    _instance = None\n",
    "\n",
    "    def __new__(cls):\n",
    "        if cls._instance is None:\n",
    "            cls._instance = super(Singleton, cls).__new__(cls)\n",
    "        return cls._instance\n",
    "\n",
    "obj1 = Singleton()\n",
    "obj2 = Singleton()\n",
    "print(obj1 is obj2)  # Output: True (Same instance)"
   ]
  },
  {
   "attachments": {},
   "cell_type": "markdown",
   "metadata": {},
   "source": [
    "🔹 Factory Pattern (Creates objects dynamically without specifying exact class.)\n",
    "✅ Best for: Object creation with different configurations."
   ]
  },
  {
   "cell_type": "code",
   "execution_count": 2,
   "metadata": {},
   "outputs": [
    {
     "name": "stdout",
     "output_type": "stream",
     "text": [
      "Meow!\n"
     ]
    }
   ],
   "source": [
    "class Dog:\n",
    "    def speak(self):\n",
    "        return \"Woof!\"\n",
    "\n",
    "class Cat:\n",
    "    def speak(self):\n",
    "        return \"Meow!\"\n",
    "\n",
    "def animal_factory(animal_type):\n",
    "    animals = {\"dog\": Dog, \"cat\": Cat}\n",
    "    return animals.get(animal_type, Dog)()  \n",
    "\n",
    "animal = animal_factory(\"cat\")\n",
    "print(animal.speak())  # Output: Meow!"
   ]
  },
  {
   "cell_type": "code",
   "execution_count": null,
   "metadata": {},
   "outputs": [],
   "source": [
    "# Second Example for Factory Pattern\n",
    "from abc import ABC, abstractmethod\n",
    "import cx_Oracle\n",
    "import pymongo\n",
    "import pandas as pd\n",
    "\n",
    "# Step 1: Abstract Base Class\n",
    "class DatabaseConnector(ABC):\n",
    "    @abstractmethod\n",
    "    def connect(self):\n",
    "        pass\n",
    "\n",
    "    @abstractmethod\n",
    "    def fetch_data(self, query):\n",
    "        pass\n",
    "\n",
    "    @abstractmethod\n",
    "    def insert_data(self, data):\n",
    "        pass\n",
    "\n",
    "# Step 2: Oracle Database Connector\n",
    "class OracleConnector(DatabaseConnector):\n",
    "    def __init__(self, dsn, user, password):\n",
    "        self.dsn = dsn\n",
    "        self.user = user\n",
    "        self.password = password\n",
    "        self.connection = None\n",
    "\n",
    "    def connect(self):\n",
    "        self.connection = cx_Oracle.connect(self.user, self.password, self.dsn)\n",
    "        print(\"Connected to Oracle\")\n",
    "\n",
    "    def fetch_data(self, query):\n",
    "        if not self.connection:\n",
    "            raise Exception(\"Oracle connection not established\")\n",
    "        cursor = self.connection.cursor()\n",
    "        cursor.execute(query)\n",
    "        columns = [col[0] for col in cursor.description]  # Get column names\n",
    "        data = cursor.fetchall()\n",
    "        cursor.close()\n",
    "        return pd.DataFrame(data, columns=columns)  # Store data in Pandas DataFrame\n",
    "\n",
    "    def insert_data(self, data):\n",
    "        raise NotImplementedError(\"Insert operation is not implemented for Oracle.\")\n",
    "\n",
    "# Step 3: MongoDB Database Connector\n",
    "class MongoDBConnector(DatabaseConnector):\n",
    "    def __init__(self, uri, database, collection):\n",
    "        self.uri = uri\n",
    "        self.database = database\n",
    "        self.collection = collection\n",
    "        self.client = None\n",
    "        self.db = None\n",
    "        self.collection_ref = None\n",
    "\n",
    "    def connect(self):\n",
    "        self.client = pymongo.MongoClient(self.uri)\n",
    "        self.db = self.client[self.database]\n",
    "        self.collection_ref = self.db[self.collection]\n",
    "        print(\"Connected to MongoDB\")\n",
    "\n",
    "    def fetch_data(self, query):\n",
    "        return list(self.collection_ref.find(query))\n",
    "\n",
    "    def insert_data(self, data):\n",
    "        if not self.collection_ref:\n",
    "            raise Exception(\"MongoDB connection not established\")\n",
    "        if isinstance(data, pd.DataFrame):\n",
    "            data = data.to_dict(orient=\"records\")  # Convert DataFrame to a list of dictionaries\n",
    "        self.collection_ref.insert_many(data)\n",
    "        print(\"Data inserted into MongoDB successfully\")\n",
    "\n",
    "# Step 4: Factory Class\n",
    "class DatabaseFactory:\n",
    "    @staticmethod\n",
    "    def get_connector(db_type, **kwargs):\n",
    "        if db_type == \"oracle\":\n",
    "            return OracleConnector(kwargs[\"dsn\"], kwargs[\"user\"], kwargs[\"password\"])\n",
    "        elif db_type == \"mongodb\":\n",
    "            return MongoDBConnector(kwargs[\"uri\"], kwargs[\"database\"], kwargs[\"collection\"])\n",
    "        else:\n",
    "            raise ValueError(\"Unsupported database type\")\n",
    "\n",
    "# Step 5: Fetch data from Oracle and insert into MongoDB\n",
    "if __name__ == \"__main__\":\n",
    "    # Oracle Configuration\n",
    "    oracle_config = {\n",
    "        \"dsn\": \"localhost:1521/XEPDB1\",\n",
    "        \"user\": \"my_user\",\n",
    "        \"password\": \"my_password\"\n",
    "    }\n",
    "    \n",
    "    # MongoDB Configuration\n",
    "    mongo_config = {\n",
    "        \"uri\": \"mongodb://localhost:27017/\",\n",
    "        \"database\": \"company\",\n",
    "        \"collection\": \"employees\"\n",
    "    }\n",
    "\n",
    "    # Step 5.1: Get Oracle Connector and Fetch Data\n",
    "    oracle_db = DatabaseFactory.get_connector(\"oracle\", **oracle_config)\n",
    "    oracle_db.connect()\n",
    "    query = \"SELECT * FROM employees\"\n",
    "    oracle_data = oracle_db.fetch_data(query)\n",
    "\n",
    "    print(\"Fetched Data from Oracle:\")\n",
    "    print(oracle_data.head())  # Display first few rows\n",
    "\n",
    "    # Step 5.2: Get MongoDB Connector and Insert Data\n",
    "    mongo_db = DatabaseFactory.get_connector(\"mongodb\", **mongo_config)\n",
    "    mongo_db.connect()\n",
    "    mongo_db.insert_data(oracle_data)\n",
    "\n",
    "    print(\"Data transfer from Oracle to MongoDB completed successfully!\")\n"
   ]
  },
  {
   "attachments": {},
   "cell_type": "markdown",
   "metadata": {},
   "source": [
    "2. Structural Design Patterns 🏛 (How objects are composed to form larger structures.)\n",
    "🔹 Adapter Pattern (Allows incompatible interfaces to work together.)\n",
    "✅ Best for: Making legacy code work with new systems."
   ]
  },
  {
   "cell_type": "code",
   "execution_count": 3,
   "metadata": {},
   "outputs": [
    {
     "name": "stdout",
     "output_type": "stream",
     "text": [
      "Adapter -> European Plug\n"
     ]
    }
   ],
   "source": [
    "class EuropeanPlug:\n",
    "    def plug_type(self):\n",
    "        return \"European Plug\"\n",
    "\n",
    "class Adapter:\n",
    "    def __init__(self, plug):\n",
    "        self.plug = plug\n",
    "\n",
    "    def plug_type(self):\n",
    "        return f\"Adapter -> {self.plug.plug_type()}\"\n",
    "\n",
    "plug = EuropeanPlug()\n",
    "adapter = Adapter(plug)\n",
    "print(adapter.plug_type())  # Output: Adapter -> European Plug"
   ]
  },
  {
   "cell_type": "code",
   "execution_count": null,
   "metadata": {},
   "outputs": [],
   "source": [
    "# Second Example For Adapter Pattern:\n",
    "from abc import ABC, abstractmethod\n",
    "\n",
    "# Step 1: Target Interface (Unified Method)\n",
    "class DataSource(ABC):\n",
    "    @abstractmethod\n",
    "    def read_data(self):\n",
    "        pass\n",
    "\n",
    "# Step 2: Existing Incompatible Classes\n",
    "class OldDatabase:\n",
    "    \"\"\"Legacy Database System\"\"\"\n",
    "    def get_data(self):\n",
    "        return \"Data from Old Database\"\n",
    "\n",
    "class NewAPI:\n",
    "    \"\"\"Modern API System\"\"\"\n",
    "    def fetch_data(self):\n",
    "        return \"Data from New API\"\n",
    "\n",
    "# Step 3: Adapter Classes\n",
    "class DatabaseAdapter(DataSource):\n",
    "    \"\"\"Adapter for OldDatabase\"\"\"\n",
    "    def __init__(self, old_db):\n",
    "        self.old_db = old_db\n",
    "\n",
    "    def read_data(self):\n",
    "        return self.old_db.get_data()  # Adapting to new method\n",
    "\n",
    "class APIAdapter(DataSource):\n",
    "    \"\"\"Adapter for NewAPI\"\"\"\n",
    "    def __init__(self, new_api):\n",
    "        self.new_api = new_api\n",
    "\n",
    "    def read_data(self):\n",
    "        return self.new_api.fetch_data()  # Adapting to new method\n",
    "\n",
    "# Step 4: Client Code (Works with Unified Interface)\n",
    "def fetch_from_source(source: DataSource):\n",
    "    print(source.read_data())\n",
    "\n",
    "# Usage Example\n",
    "old_db = OldDatabase()\n",
    "api = NewAPI()\n",
    "\n",
    "# Wrapping incompatible classes with Adapters\n",
    "db_adapter = DatabaseAdapter(old_db)\n",
    "api_adapter = APIAdapter(api)\n",
    "\n",
    "# Client code works with both through the common interface\n",
    "fetch_from_source(db_adapter)  # Output: Data from Old Database\n",
    "fetch_from_source(api_adapter)  # Output: Data from New API\n"
   ]
  },
  {
   "attachments": {},
   "cell_type": "markdown",
   "metadata": {},
   "source": [
    "🔹 Decorator Pattern (Dynamically adds behavior to objects without modifying their structure.)\n",
    "✅ Best for: Logging, authentication, data transformation."
   ]
  },
  {
   "cell_type": "code",
   "execution_count": 4,
   "metadata": {},
   "outputs": [
    {
     "name": "stdout",
     "output_type": "stream",
     "text": [
      "HELLO\n"
     ]
    }
   ],
   "source": [
    "def uppercase_decorator(func):\n",
    "    def wrapper():\n",
    "        return func().upper()\n",
    "    return wrapper\n",
    "\n",
    "@uppercase_decorator\n",
    "def greet():\n",
    "    return \"hello\"\n",
    "\n",
    "print(greet())  # Output: HELLO\n"
   ]
  },
  {
   "attachments": {},
   "cell_type": "markdown",
   "metadata": {},
   "source": [
    "3. Behavioral Design Patterns 🎭 (How objects communicate and interact.)\n",
    "🔹 Observer Pattern (Notifies multiple objects when a state changes.)\n",
    "✅ Best for: Event-driven programming (e.g., UI updates, pub-sub systems)."
   ]
  },
  {
   "cell_type": "code",
   "execution_count": 5,
   "metadata": {},
   "outputs": [
    {
     "name": "stdout",
     "output_type": "stream",
     "text": [
      "Received update: New Event!\n",
      "Received update: New Event!\n"
     ]
    }
   ],
   "source": [
    "class Observer:\n",
    "    def update(self, message):\n",
    "        print(f\"Received update: {message}\")\n",
    "\n",
    "class Subject:\n",
    "    def __init__(self):\n",
    "        self.observers = []\n",
    "\n",
    "    def add_observer(self, observer):\n",
    "        self.observers.append(observer)\n",
    "\n",
    "    def notify(self, message):\n",
    "        for observer in self.observers:\n",
    "            observer.update(message)\n",
    "\n",
    "subject = Subject()\n",
    "observer1 = Observer()\n",
    "observer2 = Observer()\n",
    "\n",
    "subject.add_observer(observer1)\n",
    "subject.add_observer(observer2)\n",
    "subject.notify(\"New Event!\")\n"
   ]
  },
  {
   "attachments": {},
   "cell_type": "markdown",
   "metadata": {},
   "source": [
    "🔹 Strategy Pattern (Allows switching algorithms dynamically.)\n",
    "✅ Best for: Choosing different behaviors at runtime."
   ]
  },
  {
   "cell_type": "code",
   "execution_count": 6,
   "metadata": {},
   "outputs": [
    {
     "name": "stdout",
     "output_type": "stream",
     "text": [
      "Paid 100 using Credit Card\n"
     ]
    }
   ],
   "source": [
    "class PayPal:\n",
    "    def pay(self, amount):\n",
    "        return f\"Paid {amount} using PayPal\"\n",
    "\n",
    "class CreditCard:\n",
    "    def pay(self, amount):\n",
    "        return f\"Paid {amount} using Credit Card\"\n",
    "\n",
    "class PaymentContext:\n",
    "    def __init__(self, strategy):\n",
    "        self.strategy = strategy\n",
    "\n",
    "    def execute_payment(self, amount):\n",
    "        return self.strategy.pay(amount)\n",
    "\n",
    "payment = PaymentContext(CreditCard())\n",
    "print(payment.execute_payment(100))  # Output: Paid 100 using Credit Card\n"
   ]
  },
  {
   "attachments": {},
   "cell_type": "markdown",
   "metadata": {},
   "source": []
  }
 ],
 "metadata": {
  "kernelspec": {
   "display_name": "venv",
   "language": "python",
   "name": "python3"
  },
  "language_info": {
   "codemirror_mode": {
    "name": "ipython",
    "version": 3
   },
   "file_extension": ".py",
   "mimetype": "text/x-python",
   "name": "python",
   "nbconvert_exporter": "python",
   "pygments_lexer": "ipython3",
   "version": "3.10.7 (v3.10.7:6cc6b13308, Sep  5 2022, 14:02:52) [Clang 13.0.0 (clang-1300.0.29.30)]"
  },
  "orig_nbformat": 4,
  "vscode": {
   "interpreter": {
    "hash": "4ae0f87b5a252505ee13ab406104f38794fc61c52313b2f5e6405a59b5bd14f0"
   }
  }
 },
 "nbformat": 4,
 "nbformat_minor": 2
}
