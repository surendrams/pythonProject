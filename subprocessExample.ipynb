{
 "cells": [
  {
   "cell_type": "code",
   "execution_count": null,
   "metadata": {},
   "outputs": [],
   "source": [
    "import re\n",
    "\n",
    "def remove_ascii(text):\n",
    "  return ''.join(char for char in text if ord(char) >= 128)\n"
   ]
  },
  {
   "cell_type": "code",
   "execution_count": null,
   "metadata": {},
   "outputs": [],
   "source": [
    "import subprocess\n",
    "from rich import print as rprint\n",
    "\n",
    "lsProcess = subprocess.run([\"ls\"], stdout=subprocess.PIPE, stderr=subprocess.PIPE)\n",
    "string_data = str(lsProcess.stdout, \"utf-8\")\n",
    "\n",
    "fileNames = ''\n",
    "for fname in string_data.split():\n",
    "    fileNames += fname + ' '\n",
    "\n",
    "grepProcess = subprocess.run([\"grep\", \"import\", string_data],stdout=subprocess.PIPE) \n",
    "#rprint(grepProcess)"
   ]
  }
 ],
 "metadata": {
  "kernelspec": {
   "display_name": "venv",
   "language": "python",
   "name": "python3"
  },
  "language_info": {
   "codemirror_mode": {
    "name": "ipython",
    "version": 3
   },
   "file_extension": ".py",
   "mimetype": "text/x-python",
   "name": "python",
   "nbconvert_exporter": "python",
   "pygments_lexer": "ipython3",
   "version": "3.10.7"
  },
  "orig_nbformat": 4,
  "vscode": {
   "interpreter": {
    "hash": "4ae0f87b5a252505ee13ab406104f38794fc61c52313b2f5e6405a59b5bd14f0"
   }
  }
 },
 "nbformat": 4,
 "nbformat_minor": 2
}
